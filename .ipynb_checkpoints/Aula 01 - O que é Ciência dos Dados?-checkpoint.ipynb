{
 "cells": [
  {
   "cell_type": "markdown",
   "metadata": {},
   "source": [
    "# O que é Data Science"
   ]
  },
  {
   "cell_type": "markdown",
   "metadata": {},
   "source": [
    "## Dilúvio de dados\n",
    "* Aumento das infraestruturas para armazenagem e coleta de dados\n",
    "* Quase todas as organizações coletam dados sobre clientes\n",
    "* Estima-se que 90% de todos os dados disponíveis no mundo foram coletados nos últimos 5 anos\n",
    "\n",
    "* Dentre os dados disponíveis, apenas 0.05% foram analisados (Burn-Murdoch, 2012)"
   ]
  },
  {
   "cell_type": "markdown",
   "metadata": {},
   "source": [
    "## É necessário analisar os dados para obter uma vantagem competitiva."
   ]
  },
  {
   "cell_type": "markdown",
   "metadata": {},
   "source": [
    "Exemplos:\n",
    "* Previsão do consumo de itens em situações de emergência\n",
    "* Antecipação da possibilidade de troca de cia telefônicas\n",
    "* Avaliação de crédito"
   ]
  },
  {
   "cell_type": "markdown",
   "metadata": {},
   "source": [
    "De acordo com Drew Conway, o cientista de dados deve possuir o perfil:\n",
    "\n",
    "* Hacking skill\n",
    "* Math & Statistics Knowledge\n",
    "* Substantive Expertise"
   ]
  },
  {
   "cell_type": "markdown",
   "metadata": {},
   "source": [
    "## Data Science não é Big Data\n",
    "\n",
    "* Data Science é o processo de análise de dados\n",
    "* Big Data é um grande volume de dados, estruturados ou não. (3V's: Volume, Velocidade, Variedade)"
   ]
  }
 ],
 "metadata": {
  "kernelspec": {
   "display_name": "Python 3",
   "language": "python",
   "name": "python3"
  },
  "language_info": {
   "codemirror_mode": {
    "name": "ipython",
    "version": 3
   },
   "file_extension": ".py",
   "mimetype": "text/x-python",
   "name": "python",
   "nbconvert_exporter": "python",
   "pygments_lexer": "ipython3",
   "version": "3.6.4"
  }
 },
 "nbformat": 4,
 "nbformat_minor": 2
}
