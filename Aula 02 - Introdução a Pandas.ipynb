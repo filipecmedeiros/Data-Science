{
 "cells": [
  {
   "cell_type": "code",
   "execution_count": 3,
   "metadata": {},
   "outputs": [],
   "source": [
    "import numpy as np\n",
    "import pandas as pd"
   ]
  },
  {
   "cell_type": "code",
   "execution_count": 4,
   "metadata": {},
   "outputs": [
    {
     "name": "stdout",
     "output_type": "stream",
     "text": [
      "Hello world IF1015\n",
      "João 45 85.3\n"
     ]
    }
   ],
   "source": [
    "# Imprimir mensagens\n",
    "print (\"Hello world IF1015\")\n",
    "\n",
    "# Variaveis sao dinamicamente tipadas\n",
    "nome = \"João\"\n",
    "idade = 45\n",
    "peso = 85.3\n",
    "\n",
    "print (nome, idade, peso)"
   ]
  },
  {
   "cell_type": "code",
   "execution_count": 7,
   "metadata": {},
   "outputs": [
    {
     "name": "stdout",
     "output_type": "stream",
     "text": [
      "['João', 45, 85.3, 5]\n",
      "(1, 3, -1)\n",
      "João\n"
     ]
    }
   ],
   "source": [
    "# Listas reunem diversos valores\n",
    "dados = [nome, idade, peso, 5]\n",
    "print (dados)\n",
    "\n",
    "# Python ainda possui tuplas ordenadas\n",
    "ponto = (1,3,-1)\n",
    "print (ponto)\n",
    "\n",
    "# E dicionarios que mapeiam uma chave a um valor\n",
    "dic = {'nome':nome, 'idade':idade, 'peso':peso, 'end':'Av. Jornalista Anibal Fernandes, Centro de Informática'}\n",
    "print (dic['nome'])"
   ]
  },
  {
   "cell_type": "code",
   "execution_count": 8,
   "metadata": {},
   "outputs": [
    {
     "name": "stdout",
     "output_type": "stream",
     "text": [
      "João tem de trabalhar mais um pouco\n"
     ]
    }
   ],
   "source": [
    "# Testes condicionais são feitos da seguinte forma\n",
    "if idade > 65:\n",
    "    # Python usa indentacao para definir o nivel das instrucoes\n",
    "    # logo, tome cuidado para alinhar as instrucoes pertencentes ao mesmo nivel\n",
    "    print (nome, 'é um candidato a se aposentar')\n",
    "    print ('Erro')\n",
    "else:\n",
    "    print (nome, 'tem de trabalhar mais um pouco')"
   ]
  },
  {
   "cell_type": "code",
   "execution_count": 10,
   "metadata": {},
   "outputs": [
    {
     "name": "stdout",
     "output_type": "stream",
     "text": [
      "Já passei por aqui 1 vez(es)\n",
      "Já passei por aqui 2 vez(es)\n",
      "Já passei por aqui 3 vez(es)\n",
      "Já passei por aqui 4 vez(es)\n",
      "Já passei por aqui 5 vez(es)\n"
     ]
    }
   ],
   "source": [
    "# Repeticoes podem ser feitas de duas formas\n",
    "# 1 - usando lacos while\n",
    "vezes = 1\n",
    "while vezes <= 5:\n",
    "    print (\"Já passei por aqui {0} vez(es)\".format(vezes))\n",
    "    vezes += 1"
   ]
  },
  {
   "cell_type": "code",
   "execution_count": 12,
   "metadata": {},
   "outputs": [
    {
     "name": "stdout",
     "output_type": "stream",
     "text": [
      "Já passei por aqui 1 vez(es)\n",
      "Já passei por aqui 2 vez(es)\n",
      "Já passei por aqui 3 vez(es)\n",
      "Já passei por aqui 4 vez(es)\n",
      "Já passei por aqui 5 vez(es)\n",
      "====\n",
      "Já passei por aqui 1 vez(es)\n",
      "Já passei por aqui 2 vez(es)\n",
      "Já passei por aqui 3 vez(es)\n",
      "Já passei por aqui 4 vez(es)\n",
      "Já passei por aqui 5 vez(es)\n"
     ]
    }
   ],
   "source": [
    "# 2 - enumerando os elementos de uma lista (objeto iteravel)\n",
    "for vezes in [1,2,3,4,5]:\n",
    "    print ('Já passei por aqui {0} vez(es)'.format(vezes))\n",
    "print ('====')\n",
    "# Ou ainda\n",
    "for vezes in range(1,6,1):\n",
    "    print ('Já passei por aqui {0} vez(es)'.format(vezes))"
   ]
  },
  {
   "cell_type": "code",
   "execution_count": 14,
   "metadata": {},
   "outputs": [
    {
     "name": "stdout",
     "output_type": "stream",
     "text": [
      "[1, 4, 9, 16, 25]\n",
      "[4, 16]\n",
      "[[1, 0, 0, 0], [1, 1, 1, 1], [1, 2, 4, 8], [1, 3, 9, 27]]\n"
     ]
    }
   ],
   "source": [
    "# Python possui um recurso bastante util para gerar listas de elementos\n",
    "# Pode-se definir uma lista quase que da mesma forma com que se define um conjunto em matematica\n",
    "# Esse recurso e chamado de list comprehension\n",
    "\n",
    "quadrados = [a**2 for a in range(1,6)]\n",
    "paresQuadrado = [a**2 for a in range(1,6) if a%2==0]\n",
    "\n",
    "print (quadrados)\n",
    "print (paresQuadrado)\n",
    "\n",
    "# Pode-se fazer coisa mais complexas como\n",
    "primPotencias = [[base**expo for expo in range(4)] for base in range(4)]\n",
    "print (primPotencias)"
   ]
  },
  {
   "cell_type": "code",
   "execution_count": 16,
   "metadata": {},
   "outputs": [
    {
     "name": "stdout",
     "output_type": "stream",
     "text": [
      "9\n",
      "9\n"
     ]
    }
   ],
   "source": [
    "# Funcoes em Python sao definidas da seguinte forma\n",
    "def quadrado (x):\n",
    "    return x**2\n",
    "\n",
    "print (quadrado(3))\n",
    "\n",
    "# Funcoes mais simples podem ser definidas como funcoes lambda\n",
    "\n",
    "f = lambda x: x**2\n",
    "\n",
    "print (f(3))"
   ]
  },
  {
   "cell_type": "code",
   "execution_count": 20,
   "metadata": {},
   "outputs": [
    {
     "name": "stdout",
     "output_type": "stream",
     "text": [
      "<map object at 0x7f70f3ff9a58> [0, 1, 4, 9, 16, 25]\n",
      "<zip object at 0x7f70f3cfce88> [(0, 0), (1, 1), (2, 4), (3, 9), (4, 16), (5, 25)]\n",
      "<filter object at 0x7f70f3ff9dd8> [0, 2, 4, 6, 8]\n"
     ]
    }
   ],
   "source": [
    "# Algumas funcoes uteis em Python\n",
    "# map = aplica uma funcao a cada um dos elementos de uma lista e retorna o resultado como iteravel\n",
    "\n",
    "a = map(f, range(6))\n",
    "print (a, list(a))\n",
    "\n",
    "# zip = combina elementos de varios iteraveis em tuplas\n",
    "a = zip(range(6), map(f,range(6)))\n",
    "print (a, list(a))\n",
    "\n",
    "# filter = retorna os elementos de um iteravel para os quais o resultado de uma funcao e verdadeiro\n",
    "a = filter(lambda x: x%2==0, range(10))\n",
    "print (a, list(a))"
   ]
  },
  {
   "cell_type": "code",
   "execution_count": 21,
   "metadata": {},
   "outputs": [
    {
     "name": "stdout",
     "output_type": "stream",
     "text": [
      "<class 'numpy.ndarray'> [1 2 3 4 5]\n",
      "[[ 0  1  2  3  4  5]\n",
      " [ 6  7  8  9 10 11]]\n",
      "(5,) (2, 6)\n",
      "[[ 0  1  2  3]\n",
      " [ 4  5  6  7]\n",
      " [ 8  9 10 11]]\n"
     ]
    }
   ],
   "source": [
    "# Pode-se criar um vetor numpy usando outros iteraveis\n",
    "# Unidimensional\n",
    "arr1 = np.array([1,2,3,4,5])\n",
    "print (type(arr1), arr1)\n",
    "\n",
    "# Bidimensional\n",
    "arr2 = np.array([range(6), range(6,12)])\n",
    "print (arr2)\n",
    "\n",
    "# Os tamanhos das dimensoes podem ser obtidos com o metodo shape\n",
    "print (arr1.shape, arr2.shape)\n",
    "\n",
    "# Pode-se alterar a forma de um vetor mesmo apos sua criacao\n",
    "arr2.shape = (3,4)\n",
    "print (arr2)"
   ]
  },
  {
   "cell_type": "code",
   "execution_count": 24,
   "metadata": {},
   "outputs": [
    {
     "name": "stdout",
     "output_type": "stream",
     "text": [
      "[ 0.  5. 10. 15. 20. 25. 30. 35. 40. 45.]\n",
      "[[ 0.  5. 10. 15. 20.]\n",
      " [25. 30. 35. 40. 45.]]\n",
      "[[0.1 0.2 0.3 0.4 0.5]\n",
      " [0.6 0.7 0.8 0.9 1. ]] \n",
      "====\n",
      "[[-0.1  4.8  9.7 14.6 19.5]\n",
      " [24.4 29.3 34.2 39.1 44. ]] \n",
      "====\n",
      "[[ 0.  1.  3.  6. 10.]\n",
      " [15. 21. 28. 36. 45.]] \n",
      "====\n",
      "[[ 20.   57.5]\n",
      " [ 45.  145. ]]\n"
     ]
    }
   ],
   "source": [
    "# NumPy permite operacoes vetorizadas\n",
    "a = np.arange(50,step=5, dtype=np.float)\n",
    "print (a)\n",
    "\n",
    "arr1 = a.reshape ((2,5))\n",
    "print (arr1)\n",
    "\n",
    "arr2 = np.linspace(.1,1,num=10, dtype=np.float).reshape((2,5))\n",
    "print (arr2, '\\n====')\n",
    "print (arr1 - arr2, '\\n====')\n",
    "print (arr1*arr2, '\\n====')\n",
    "print (np.dot(arr2, arr1.T))"
   ]
  },
  {
   "cell_type": "code",
   "execution_count": null,
   "metadata": {},
   "outputs": [],
   "source": []
  }
 ],
 "metadata": {
  "kernelspec": {
   "display_name": "Python 3",
   "language": "python",
   "name": "python3"
  },
  "language_info": {
   "codemirror_mode": {
    "name": "ipython",
    "version": 3
   },
   "file_extension": ".py",
   "mimetype": "text/x-python",
   "name": "python",
   "nbconvert_exporter": "python",
   "pygments_lexer": "ipython3",
   "version": "3.6.4"
  }
 },
 "nbformat": 4,
 "nbformat_minor": 2
}
