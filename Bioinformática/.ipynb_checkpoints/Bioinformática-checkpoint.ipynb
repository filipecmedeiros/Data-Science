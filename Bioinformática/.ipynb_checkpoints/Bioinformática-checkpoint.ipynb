{
 "cells": [
  {
   "cell_type": "code",
   "execution_count": 1,
   "metadata": {},
   "outputs": [],
   "source": [
    "import numpy as np\n",
    "import pandas as pd"
   ]
  },
  {
   "cell_type": "code",
   "execution_count": 35,
   "metadata": {},
   "outputs": [],
   "source": [
    "transcriptions = pd.read_csv('Transcription_factor_weight_matrix.txt', sep=' ', header = None)"
   ]
  },
  {
   "cell_type": "code",
   "execution_count": 24,
   "metadata": {},
   "outputs": [
    {
     "name": "stdout",
     "output_type": "stream",
     "text": [
      "(5750, 2)\n"
     ]
    }
   ],
   "source": [
    "print (transcriptions.shape)"
   ]
  },
  {
   "cell_type": "code",
   "execution_count": 36,
   "metadata": {},
   "outputs": [
    {
     "name": "stdout",
     "output_type": "stream",
     "text": [
      "1150.0\n"
     ]
    }
   ],
   "source": [
    "print (5750/5)"
   ]
  },
  {
   "cell_type": "code",
   "execution_count": 37,
   "metadata": {},
   "outputs": [
    {
     "name": "stdout",
     "output_type": "stream",
     "text": [
      "                                                      0\n",
      "0                                      >TFmatrixID_0001\n",
      "1     A\\t[0.3651\\t0.7719\\t0.8431\\t0.4837\\t0.3315\\t0....\n",
      "2     C\\t[0.0848\\t0.0176\\t0.0353\\t0.0144\\t0.0061\\t0....\n",
      "3     G\\t[0.1309\\t0.1464\\t0.0236\\t0.0047\\t0.0029\\t0....\n",
      "4     T\\t[0.4191\\t0.0641\\t0.0979\\t0.4972\\t0.6596\\t0....\n",
      "5                                      >TFmatrixID_0002\n",
      "6     A\\t[0.3438\\t0.5527\\t0.3738\\t0.7858\\t0.7384\\t0....\n",
      "7     C\\t[0.094\\t0.0233\\t0.0187\\t0.0039\\t0.0022\\t0.0...\n",
      "8     G\\t[0.4166\\t0.0245\\t0.0215\\t0.0114\\t0.0076\\t0....\n",
      "9     T\\t[0.1457\\t0.3994\\t0.5859\\t0.199\\t0.2519\\t0.7...\n",
      "10                                     >TFmatrixID_0003\n",
      "11    A\\t[0.4156\\t0.8348\\t0.4456\\t0.5507\\t0.3551\\t0....\n",
      "12    C\\t[0.1117\\t0.0231\\t0.0054\\t0.0123\\t0.0039\\t0....\n",
      "13    G\\t[0.1106\\t0.0407\\t0.0118\\t0.0071\\t0.0052\\t0....\n",
      "14    T\\t[0.3621\\t0.1014\\t0.5372\\t0.4299\\t0.6358\\t0....\n",
      "15                                     >TFmatrixID_0004\n",
      "16    A\\t[0.4377\\t0.9509\\t0.877\\t0.0769\\t0.8661\\t0.1...\n",
      "17    C\\t[0.165\\t0.0084\\t0.0023\\t0.0051\\t0.0031\\t0.0...\n",
      "18    G\\t[0.1121\\t0.0137\\t0.007\\t0.0099\\t0.0025\\t0.0...\n",
      "19    T\\t[0.2852\\t0.0271\\t0.1137\\t0.9081\\t0.1282\\t0....\n",
      "20                                     >TFmatrixID_0005\n",
      "21    A\\t[0.2787\\t0.7742\\t0.7534\\t0.1205\\t0.2499\\t0....\n",
      "22    C\\t[0.2689\\t0.0655\\t0.0062\\t0.0044\\t0.0056\\t0....\n",
      "23    G\\t[0.0948\\t0.0727\\t0.0051\\t0.0132\\t0.0062\\t0....\n",
      "24    T\\t[0.3576\\t0.0876\\t0.2352\\t0.8619\\t0.7383\\t0....\n",
      "25                                     >TFmatrixID_0006\n",
      "26    A\\t[0.1716\\t0.8898\\t0.4032\\t0.3705\\t0.6923\\t0....\n",
      "27    C\\t[0.1974\\t0.0459\\t0.0102\\t0.0053\\t0.024\\t0.0...\n",
      "28    G\\t[0.2083\\t0.0299\\t0.008\\t0.0148\\t0.0032\\t0.0...\n",
      "29    T\\t[0.4228\\t0.0344\\t0.5785\\t0.6094\\t0.2804\\t0....\n",
      "...                                                 ...\n",
      "5720                                 >TF_motif_seq_0504\n",
      "5721                   A\\t[0\\t0\\t0\\t0\\t0\\t0\\t0\\t1\\t0\\t]\n",
      "5722                   C\\t[0\\t0\\t0\\t0\\t1\\t1\\t1\\t0\\t1\\t]\n",
      "5723                   G\\t[0\\t1\\t1\\t0\\t0\\t0\\t0\\t0\\t0\\t]\n",
      "5724                   T\\t[1\\t0\\t0\\t1\\t0\\t0\\t0\\t0\\t0\\t]\n",
      "5725                                 >TF_motif_seq_0505\n",
      "5726                   A\\t[0\\t0\\t0\\t1\\t1\\t1\\t1\\t0\\t0\\t]\n",
      "5727                   C\\t[0\\t0\\t0\\t0\\t0\\t0\\t0\\t0\\t0\\t]\n",
      "5728                   G\\t[0\\t1\\t0\\t0\\t0\\t0\\t0\\t1\\t0\\t]\n",
      "5729                   T\\t[1\\t0\\t1\\t0\\t0\\t0\\t0\\t0\\t1\\t]\n",
      "5730                                 >TF_motif_seq_0506\n",
      "5731                   A\\t[0\\t0\\t0\\t1\\t0\\t1\\t0\\t1\\t0\\t]\n",
      "5732                   C\\t[0\\t0\\t0\\t0\\t0\\t0\\t0\\t0\\t0\\t]\n",
      "5733                   G\\t[0\\t1\\t0\\t0\\t0\\t0\\t0\\t0\\t0\\t]\n",
      "5734                   T\\t[1\\t0\\t1\\t0\\t1\\t0\\t1\\t0\\t1\\t]\n",
      "5735                                 >TF_motif_seq_0507\n",
      "5736                   A\\t[0\\t0\\t0\\t0\\t1\\t1\\t1\\t0\\t0\\t]\n",
      "5737                   C\\t[0\\t0\\t0\\t0\\t0\\t0\\t0\\t0\\t0\\t]\n",
      "5738                   G\\t[0\\t1\\t0\\t0\\t0\\t0\\t0\\t1\\t0\\t]\n",
      "5739                   T\\t[1\\t0\\t1\\t1\\t0\\t0\\t0\\t0\\t1\\t]\n",
      "5740                                 >TF_motif_seq_0509\n",
      "5741                   A\\t[0\\t0\\t0\\t0\\t0\\t0\\t0\\t0\\t0\\t]\n",
      "5742                   C\\t[0\\t0\\t1\\t1\\t1\\t0\\t0\\t0\\t0\\t]\n",
      "5743                   G\\t[0\\t0\\t0\\t0\\t0\\t0\\t1\\t0\\t0\\t]\n",
      "5744                   T\\t[1\\t1\\t0\\t0\\t0\\t1\\t0\\t1\\t1\\t]\n",
      "5745                                 >TF_motif_seq_0510\n",
      "5746                   A\\t[0\\t0\\t0\\t0\\t0\\t0\\t0\\t0\\t0\\t]\n",
      "5747                 C\\t[0\\t0.5\\t0\\t1\\t1\\t1\\t0\\t1\\t1\\t]\n",
      "5748                   G\\t[0\\t0\\t0\\t0\\t0\\t0\\t1\\t0\\t0\\t]\n",
      "5749                 T\\t[1\\t0.5\\t1\\t0\\t0\\t0\\t0\\t0\\t0\\t]\n",
      "\n",
      "[5750 rows x 1 columns]\n"
     ]
    }
   ],
   "source": [
    "print (transcriptions)"
   ]
  },
  {
   "cell_type": "code",
   "execution_count": null,
   "metadata": {},
   "outputs": [],
   "source": []
  }
 ],
 "metadata": {
  "kernelspec": {
   "display_name": "Python 3",
   "language": "python",
   "name": "python3"
  },
  "language_info": {
   "codemirror_mode": {
    "name": "ipython",
    "version": 3
   },
   "file_extension": ".py",
   "mimetype": "text/x-python",
   "name": "python",
   "nbconvert_exporter": "python",
   "pygments_lexer": "ipython3",
   "version": "3.6.4"
  }
 },
 "nbformat": 4,
 "nbformat_minor": 2
}
